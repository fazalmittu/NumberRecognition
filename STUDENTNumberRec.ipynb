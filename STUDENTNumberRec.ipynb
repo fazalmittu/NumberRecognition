{
  "nbformat": 4,
  "nbformat_minor": 0,
  "metadata": {
    "colab": {
      "name": "STUDENTNumberRec.ipynb",
      "provenance": [],
      "collapsed_sections": []
    },
    "kernelspec": {
      "name": "python3",
      "display_name": "Python 3"
    },
    "language_info": {
      "name": "python"
    }
  },
  "cells": [
    {
      "cell_type": "code",
      "source": [
        "!wget https://github.com/fazalmittu/NumberRecognition/blob/main/sample_image.png?raw=true\n"
      ],
      "metadata": {
        "id": "g7EAhybTpUsk"
      },
      "execution_count": null,
      "outputs": []
    },
    {
      "cell_type": "code",
      "execution_count": null,
      "metadata": {
        "id": "tIhyTY2YE3a3"
      },
      "outputs": [],
      "source": [
        "#imports"
      ]
    },
    {
      "cell_type": "code",
      "source": [
        "mnist = tf.keras.datasets.mnist \n",
        "\n",
        "#mnist is a dataset of 70,000 images of hand written digits [0-9]"
      ],
      "metadata": {
        "id": "ZNpWMKN3GO-z"
      },
      "execution_count": null,
      "outputs": []
    },
    {
      "cell_type": "code",
      "source": [
        "(x_train, y_train), (x_test, y_test) = #load data\n",
        "\n",
        "#load_data function splits the data for us; 60,000 images for train and 10,000 for test"
      ],
      "metadata": {
        "id": "jox8nSF4GfqJ"
      },
      "execution_count": null,
      "outputs": []
    },
    {
      "cell_type": "code",
      "source": [
        "x_train = tf.keras.utils.normalize(x_train, axis=1)\n",
        "x_test = tf.keras.utils.normalize(x_test, axis=1)\n",
        "\n",
        "#normalize data means to put all values between 0-1\n",
        "#normalization makes computation easier for the model"
      ],
      "metadata": {
        "id": "P7Uuald_P8DC"
      },
      "execution_count": null,
      "outputs": []
    },
    {
      "cell_type": "code",
      "source": [
        "#our model will have 2 dense, hidden layers\n",
        "#sequential means we create the most basic, feedforward neural network\n",
        "\n",
        "model = #sequential model"
      ],
      "metadata": {
        "id": "iI1SqFoVQN8H"
      },
      "execution_count": null,
      "outputs": []
    },
    {
      "cell_type": "code",
      "source": [
        "#flatten layer is a 1d layer; each image is a 28x28 pixel image so we wanna flatten that into 784x1\n",
        "\n",
        "#input layer\n",
        "model.add(tf.keras.layers.Dense(#units, activation=tf.nn.relu)) #hidden layer\n",
        "model.add(tf.keras.layers.Dense(#units, activation=tf.nn.relu)) #hidden layer\n",
        "model.add(tf.keras.layers.Dense(units=10, activation=tf.nn.softmax)) #output layer \n",
        "\n",
        "#ReLU (rectified linear unit): all negative values result in 0 and positive values result in their value\n",
        "#Softmax: at the end, each neuron gives us a probability of the input image being that number and softmax\n",
        "#scales those values down to 0-1\n",
        "\n",
        "#10 neurons = 0, 1, 2, 3, 4, 5, 6, 7, 8, 9 \n",
        "#EX Output: [0.05, 0.05, 0.05, 0.05, 0.55, 0.05, 0.05, 0.05, 0.05, 0.05] means that number inputted is a 4"
      ],
      "metadata": {
        "id": "Vtz39IFXR8iN"
      },
      "execution_count": null,
      "outputs": []
    },
    {
      "cell_type": "markdown",
      "source": [
        "![image.png](data:image/png;base64,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)"
      ],
      "metadata": {
        "id": "rqckA4hIRuD0"
      }
    },
    {
      "cell_type": "code",
      "source": [
        "model.compile(optimizer='adam', loss='sparse_categorical_crossentropy', metrics=['accuracy'])"
      ],
      "metadata": {
        "id": "2cE1W-uqSiCK"
      },
      "execution_count": null,
      "outputs": []
    },
    {
      "cell_type": "code",
      "source": [
        "#fit model"
      ],
      "metadata": {
        "colab": {
          "base_uri": "https://localhost:8080/"
        },
        "id": "ylGS-bM1VhdT",
        "outputId": "da03901a-889c-4381-915a-a35d93354de6"
      },
      "execution_count": null,
      "outputs": [
        {
          "output_type": "stream",
          "name": "stdout",
          "text": [
            "Epoch 1/3\n",
            "1875/1875 [==============================] - 5s 3ms/step - loss: 0.2577 - accuracy: 0.9245\n",
            "Epoch 2/3\n",
            "1875/1875 [==============================] - 4s 2ms/step - loss: 0.1053 - accuracy: 0.9677\n",
            "Epoch 3/3\n",
            "1875/1875 [==============================] - 4s 2ms/step - loss: 0.0723 - accuracy: 0.9773\n"
          ]
        },
        {
          "output_type": "execute_result",
          "data": {
            "text/plain": [
              "<keras.callbacks.History at 0x7f40de71d650>"
            ]
          },
          "metadata": {},
          "execution_count": 9
        }
      ]
    },
    {
      "cell_type": "code",
      "source": [
        "loss, accuracy = model.evaluate(x_test, y_test)\n",
        "print('Accuracy = ', accuracy)\n",
        "print('Loss = ', loss)"
      ],
      "metadata": {
        "colab": {
          "base_uri": "https://localhost:8080/"
        },
        "id": "2IT2wvDSVo9Y",
        "outputId": "b7ab5157-f5fc-4ca4-b957-e9ad3686bd0a"
      },
      "execution_count": null,
      "outputs": [
        {
          "output_type": "stream",
          "name": "stdout",
          "text": [
            "313/313 [==============================] - 1s 2ms/step - loss: 0.0980 - accuracy: 0.9691\n",
            "Accuracy =  0.9690999984741211\n",
            "Loss =  0.09802936762571335\n"
          ]
        }
      ]
    },
    {
      "cell_type": "code",
      "source": [
        "model.save('digits.model')"
      ],
      "metadata": {
        "colab": {
          "base_uri": "https://localhost:8080/"
        },
        "id": "T0bK45ZSvRZ5",
        "outputId": "4af168a6-537a-42f1-cb90-c888cc30fe17"
      },
      "execution_count": null,
      "outputs": [
        {
          "output_type": "stream",
          "name": "stdout",
          "text": [
            "INFO:tensorflow:Assets written to: digits.model/assets\n"
          ]
        }
      ]
    },
    {
      "cell_type": "code",
      "source": [
        "def load_image(filename):\n",
        "\t# load the image\n",
        "\timg = tf.keras.preprocessing.image.load_img(filename, grayscale=True, target_size=(28, 28))\n",
        "\t# convert to array\n",
        "\timg = tf.keras.preprocessing.image.img_to_array(img)\n",
        "\t# reshape into a single sample with 1 channel\n",
        "\timg = img.reshape(1, 28, 28, 1)\n",
        "\t# prepare pixel data\n",
        "\timg = img.astype('float32')\n",
        "\timg = img / 255.0\n",
        "\treturn img"
      ],
      "metadata": {
        "id": "IrVYji1E1U82"
      },
      "execution_count": null,
      "outputs": []
    },
    {
      "cell_type": "code",
      "source": [
        "img = load_image('/content/sample_image.png?raw=true')\n",
        "\n",
        "#predict value\n",
        "#argmax\n",
        "\n",
        "print('number is probably: ', digit)"
      ],
      "metadata": {
        "id": "BB3JSCUR1e9h"
      },
      "execution_count": null,
      "outputs": []
    },
    {
      "cell_type": "code",
      "source": [
        ""
      ],
      "metadata": {
        "id": "lJ6Fcpt_vJLx"
      },
      "execution_count": null,
      "outputs": []
    }
  ]
}